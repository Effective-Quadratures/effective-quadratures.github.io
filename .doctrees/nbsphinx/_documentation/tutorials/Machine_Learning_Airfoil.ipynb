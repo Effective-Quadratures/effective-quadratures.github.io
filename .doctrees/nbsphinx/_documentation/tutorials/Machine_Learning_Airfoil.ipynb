{
 "cells": [
  {
   "cell_type": "code",
   "execution_count": 1,
   "metadata": {
    "colab": {
     "base_uri": "https://localhost:8080/"
    },
    "id": "0fqWveqJEQXJ",
    "nbsphinx": "hidden",
    "outputId": "b07e829b-2a6e-444e-ce98-547c4c58fae5"
   },
   "outputs": [],
   "source": [
    "# Check if running on colab\n",
    "try:\n",
    "  import google.colab\n",
    "  IN_COLAB = True\n",
    "except:\n",
    "  IN_COLAB = False\n",
    "\n",
    "# pip install any missing packages\n",
    "if IN_COLAB:\n",
    "  !pip install equadratures # for standard pip install\n",
    "\n",
    "import numpy as np                                                                                                                                                                                      \n",
    "import equadratures as eq"
   ]
  },
  {
   "cell_type": "markdown",
   "metadata": {
    "id": "2Oos-lpfEQXI"
   },
   "source": [
    "# Machine learning of airfoil self-noise with interpretable polynomial trees\n",
    "\n",
    "Coming soon!\n",
    "\n",
    "<img src=\"images/airfoil_noise.png\" alt=\"drawing\" style=\"width:450px;\"/>\n"
   ]
  },
  {
   "cell_type": "code",
   "execution_count": null,
   "metadata": {},
   "outputs": [],
   "source": []
  }
 ],
 "metadata": {
  "celltoolbar": "Edit Metadata",
  "colab": {
   "name": "1_Defining_a_Parameter.ipynb",
   "provenance": []
  },
  "kernelspec": {
   "display_name": "Python 3",
   "language": "python",
   "name": "python3"
  },
  "language_info": {
   "codemirror_mode": {
    "name": "ipython",
    "version": 3
   },
   "file_extension": ".py",
   "mimetype": "text/x-python",
   "name": "python",
   "nbconvert_exporter": "python",
   "pygments_lexer": "ipython3",
   "version": "3.7.0"
  }
 },
 "nbformat": 4,
 "nbformat_minor": 1
}
